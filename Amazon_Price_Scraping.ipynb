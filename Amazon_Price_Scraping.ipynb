{
 "cells": [
  {
   "cell_type": "code",
   "execution_count": 5,
   "id": "3aa52b0d-9700-46fd-8524-8148299140a9",
   "metadata": {},
   "outputs": [],
   "source": [
    "import requests\n",
    "import bs4\n",
    "import time\n",
    "import pandas as pd"
   ]
  },
  {
   "cell_type": "code",
   "execution_count": 21,
   "id": "f22e1ddd-0823-4972-959d-01e7e4316e73",
   "metadata": {},
   "outputs": [],
   "source": [
    "links=[\n",
    "    'https://www.amazon.in/Dont-Believe-Everything-You-Think/dp/935543135X/ref=sr_1_4?sr=8-4',\n",
    "    'https://www.amazon.in/Dopamine-Detox-Remove-Distractions-Things/dp/8183286011/ref=sr_1_5?sr=8-5',\n",
    "    'https://www.amazon.in/Psychology-Money-Morgan-Housel/dp/9390166268/ref=sr_1_6?sr=8-6',\n",
    "    'https://www.amazon.in/You-Got-This-Loving-Yourself/dp/8119750160/ref=sr_1_7?sr=8-7',\n",
    "    'https://www.amazon.in/Blue-Umbrella-Ruskin-Bond/dp/8171673406/ref=sr_1_8?sr=8-8',\n",
    "    'https://www.amazon.in/Art-Being-Alone-Loneliness-Solitude/dp/9355434022/ref=sr_1_9?sr=8-9',\n",
    "    'https://www.amazon.in/Can-We-Strangers-Again-bittersweet/dp/0143475924/ref=sr_1_10?sr=8-10',\n",
    "    'https://www.amazon.in/Alchemist-Paulo-Coelho/dp/8172234988/ref=sr_1_14?sr=8-14',\n",
    "    'https://www.amazon.in/Who-Will-Cry-When-You/dp/8179922324/ref=sr_1_13?sr=8-13',\n",
    "    'https://www.amazon.in/Ikigai-H%C3%A9ctor-Garc%C3%ADa/dp/178633089X/ref=sr_1_14?sr=8-14',\n",
    "    'https://www.amazon.in/Theory-Everything-Stephen-Hawking/dp/8179925919/ref=sr_1_16?sr=8-16',\n",
    "    'https://www.amazon.in/Monk-Who-Sold-His-Ferrari/dp/817992162X/ref=sr_1_18?sr=8-18',\n",
    "    'https://www.amazon.in/Science-Self-Discipline-Willpower-Self-Control-Temptation/dp/8183285740/ref=sr_1_19?sr=8-19',\n",
    "    'https://www.amazon.in/MY-JOURNEY-TRANSFORMING-DREAMS-ACTIONS/dp/8129124912/ref=sr_1_20?sr=8-20'\n",
    "]"
   ]
  },
  {
   "cell_type": "code",
   "execution_count": 22,
   "id": "c3f7d2c4-46ee-4634-9fc2-bf8c4f3574a3",
   "metadata": {},
   "outputs": [],
   "source": [
    "headers = {\n",
    "    'User-Agent': 'Mozilla/5.0 (Windows NT 10.0; Win64; x64) AppleWebKit/537.36 (KHTML, like Gecko) Chrome/114.0.0.0 Safari/537.36'\n",
    "}\n",
    "#By adding headers, you’re essentially disguising your request as a real user"
   ]
  },
  {
   "cell_type": "code",
   "execution_count": 23,
   "id": "657829f8-ee80-4fae-b2f2-b10d23f0d714",
   "metadata": {},
   "outputs": [],
   "source": [
    "data=[]\n",
    "for url in links:\n",
    "    res = requests.get(url, headers=headers)\n",
    "    row = []\n",
    "    soup = bs4.BeautifulSoup(res.text)\n",
    "    name = soup.find('span',attrs = {'id':'productTitle'})\n",
    "    price=soup.find('span',attrs={'class':'a-price-whole'})\n",
    "    row.append(name.text.strip())\n",
    "    row.append(price.text)\n",
    "    data.append(row)\n",
    "    time.sleep(1)"
   ]
  },
  {
   "cell_type": "code",
   "execution_count": 24,
   "id": "af542a8a-8145-49f2-8114-e597eadebc52",
   "metadata": {},
   "outputs": [
    {
     "data": {
      "text/plain": [
       "[[\"Don't Believe Everything You Think (English)\", '190'],\n",
       " ['Dopamine Detox : A Short Guide to Remove Distractions and Get Your Brain to Do Hard Things',\n",
       "  '195'],\n",
       " ['The Psychology of Money', '276'],\n",
       " ['You Got This: Art of Loving Yourself | Emotional wellness | Mental health | Happiness | Self-Care | Personal growth | Mindfulness | Motivational | Positive Thinking',\n",
       "  '212'],\n",
       " ['THE BLUE UMBRELLA', '123'],\n",
       " ['The Art of Being Alone: Loneliness Was My Cage, Solitude Is My Home (English)',\n",
       "  '192'],\n",
       " ['Can We Be Strangers Again?: A moving tale of love, loyalty, and the bittersweet beauty of letting go',\n",
       "  '207'],\n",
       " ['The Alchemist', '255'],\n",
       " ['Who Will Cry When You Die?', '169'],\n",
       " ['Ikigai: Japanese secret to long and happy life', '366'],\n",
       " ['The Theory Of Everything', '185'],\n",
       " ['The Monk Who Sold His Ferrari', '219'],\n",
       " ['The Science of Self-Discipline: The Willpower, Mental Toughness and Self-Control to Resist Temptation and Achieve Your Goals',\n",
       "  '289'],\n",
       " ['MY JOURNEY - TRANSFORMING DREAMS INTO ACTIONS', '175']]"
      ]
     },
     "execution_count": 24,
     "metadata": {},
     "output_type": "execute_result"
    }
   ],
   "source": [
    "data"
   ]
  },
  {
   "cell_type": "code",
   "execution_count": 25,
   "id": "be7259fc-a114-4b8f-9856-3c70e8746cb3",
   "metadata": {},
   "outputs": [],
   "source": [
    "df=pd.DataFrame(data,index=range(1,len(links)+1),columns=['Book','Price'])"
   ]
  },
  {
   "cell_type": "code",
   "execution_count": 26,
   "id": "8c5bdeb5-c54c-4816-bd73-5a40226e6f30",
   "metadata": {},
   "outputs": [
    {
     "data": {
      "text/html": [
       "<div>\n",
       "<style scoped>\n",
       "    .dataframe tbody tr th:only-of-type {\n",
       "        vertical-align: middle;\n",
       "    }\n",
       "\n",
       "    .dataframe tbody tr th {\n",
       "        vertical-align: top;\n",
       "    }\n",
       "\n",
       "    .dataframe thead th {\n",
       "        text-align: right;\n",
       "    }\n",
       "</style>\n",
       "<table border=\"1\" class=\"dataframe\">\n",
       "  <thead>\n",
       "    <tr style=\"text-align: right;\">\n",
       "      <th></th>\n",
       "      <th>Book</th>\n",
       "      <th>Price</th>\n",
       "    </tr>\n",
       "  </thead>\n",
       "  <tbody>\n",
       "    <tr>\n",
       "      <th>1</th>\n",
       "      <td>Don't Believe Everything You Think (English)</td>\n",
       "      <td>190</td>\n",
       "    </tr>\n",
       "    <tr>\n",
       "      <th>2</th>\n",
       "      <td>Dopamine Detox : A Short Guide to Remove Distr...</td>\n",
       "      <td>195</td>\n",
       "    </tr>\n",
       "    <tr>\n",
       "      <th>3</th>\n",
       "      <td>The Psychology of Money</td>\n",
       "      <td>276</td>\n",
       "    </tr>\n",
       "    <tr>\n",
       "      <th>4</th>\n",
       "      <td>You Got This: Art of Loving Yourself | Emotion...</td>\n",
       "      <td>212</td>\n",
       "    </tr>\n",
       "    <tr>\n",
       "      <th>5</th>\n",
       "      <td>THE BLUE UMBRELLA</td>\n",
       "      <td>123</td>\n",
       "    </tr>\n",
       "    <tr>\n",
       "      <th>6</th>\n",
       "      <td>The Art of Being Alone: Loneliness Was My Cage...</td>\n",
       "      <td>192</td>\n",
       "    </tr>\n",
       "    <tr>\n",
       "      <th>7</th>\n",
       "      <td>Can We Be Strangers Again?: A moving tale of l...</td>\n",
       "      <td>207</td>\n",
       "    </tr>\n",
       "    <tr>\n",
       "      <th>8</th>\n",
       "      <td>The Alchemist</td>\n",
       "      <td>255</td>\n",
       "    </tr>\n",
       "    <tr>\n",
       "      <th>9</th>\n",
       "      <td>Who Will Cry When You Die?</td>\n",
       "      <td>169</td>\n",
       "    </tr>\n",
       "    <tr>\n",
       "      <th>10</th>\n",
       "      <td>Ikigai: Japanese secret to long and happy life</td>\n",
       "      <td>366</td>\n",
       "    </tr>\n",
       "    <tr>\n",
       "      <th>11</th>\n",
       "      <td>The Theory Of Everything</td>\n",
       "      <td>185</td>\n",
       "    </tr>\n",
       "    <tr>\n",
       "      <th>12</th>\n",
       "      <td>The Monk Who Sold His Ferrari</td>\n",
       "      <td>219</td>\n",
       "    </tr>\n",
       "    <tr>\n",
       "      <th>13</th>\n",
       "      <td>The Science of Self-Discipline: The Willpower,...</td>\n",
       "      <td>289</td>\n",
       "    </tr>\n",
       "    <tr>\n",
       "      <th>14</th>\n",
       "      <td>MY JOURNEY - TRANSFORMING DREAMS INTO ACTIONS</td>\n",
       "      <td>175</td>\n",
       "    </tr>\n",
       "  </tbody>\n",
       "</table>\n",
       "</div>"
      ],
      "text/plain": [
       "                                                 Book Price\n",
       "1        Don't Believe Everything You Think (English)   190\n",
       "2   Dopamine Detox : A Short Guide to Remove Distr...   195\n",
       "3                             The Psychology of Money   276\n",
       "4   You Got This: Art of Loving Yourself | Emotion...   212\n",
       "5                                   THE BLUE UMBRELLA   123\n",
       "6   The Art of Being Alone: Loneliness Was My Cage...   192\n",
       "7   Can We Be Strangers Again?: A moving tale of l...   207\n",
       "8                                       The Alchemist   255\n",
       "9                          Who Will Cry When You Die?   169\n",
       "10     Ikigai: Japanese secret to long and happy life   366\n",
       "11                           The Theory Of Everything   185\n",
       "12                      The Monk Who Sold His Ferrari   219\n",
       "13  The Science of Self-Discipline: The Willpower,...   289\n",
       "14      MY JOURNEY - TRANSFORMING DREAMS INTO ACTIONS   175"
      ]
     },
     "execution_count": 26,
     "metadata": {},
     "output_type": "execute_result"
    }
   ],
   "source": [
    "df"
   ]
  },
  {
   "cell_type": "code",
   "execution_count": null,
   "id": "5b51fcee-c164-4ab2-9619-6654ede81298",
   "metadata": {},
   "outputs": [],
   "source": []
  },
  {
   "cell_type": "code",
   "execution_count": null,
   "id": "58624f1f-abc2-489c-ae0c-31850e36ae07",
   "metadata": {},
   "outputs": [],
   "source": []
  }
 ],
 "metadata": {
  "kernelspec": {
   "display_name": "Python 3 (ipykernel)",
   "language": "python",
   "name": "python3"
  },
  "language_info": {
   "codemirror_mode": {
    "name": "ipython",
    "version": 3
   },
   "file_extension": ".py",
   "mimetype": "text/x-python",
   "name": "python",
   "nbconvert_exporter": "python",
   "pygments_lexer": "ipython3",
   "version": "3.12.1"
  }
 },
 "nbformat": 4,
 "nbformat_minor": 5
}
